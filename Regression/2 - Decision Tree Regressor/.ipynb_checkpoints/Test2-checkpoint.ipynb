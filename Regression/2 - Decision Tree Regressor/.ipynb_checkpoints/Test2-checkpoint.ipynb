{
 "cells": [
  {
   "cell_type": "code",
   "execution_count": 1,
   "id": "693915f8",
   "metadata": {},
   "outputs": [],
   "source": [
    "import numpy as np\n",
    "from LogisticRegressor import LogisticRegressor\n",
    "\n",
    "from sklearn import datasets\n",
    "from sklearn.model_selection import train_test_split"
   ]
  },
  {
   "cell_type": "code",
   "execution_count": 2,
   "id": "1d25de67",
   "metadata": {},
   "outputs": [],
   "source": [
    "dataset = datasets.load_breast_cancer()\n",
    "\n",
    "x = dataset.data\n",
    "y = dataset.target"
   ]
  },
  {
   "cell_type": "code",
   "execution_count": 3,
   "id": "97c6b778",
   "metadata": {},
   "outputs": [],
   "source": [
    "x_train,x_test,y_train,y_test = train_test_split(x,y,test_size=0.20,random_state=42)"
   ]
  },
  {
   "cell_type": "code",
   "execution_count": 4,
   "id": "95b7c146",
   "metadata": {},
   "outputs": [],
   "source": [
    "logistic_regressor = LogisticRegressor(learning_rate=0.01, iterations=1000)"
   ]
  },
  {
   "cell_type": "code",
   "execution_count": 5,
   "id": "6b22d382",
   "metadata": {},
   "outputs": [
    {
     "name": "stderr",
     "output_type": "stream",
     "text": [
      "C:\\Users\\Omer\\Documents\\ML Algorithms from Scratch\\Classification\\1 - Logistic Regression\\LogisticRegressor.py:8: RuntimeWarning: overflow encountered in exp\n",
      "  probs = 1 / (1 + np.exp(-theta))\n",
      "C:\\Users\\Omer\\Documents\\ML Algorithms from Scratch\\Classification\\1 - Logistic Regression\\LogisticRegressor.py:45: RuntimeWarning: overflow encountered in exp\n",
      "  probs = 1 / (1 + np.exp(-theta))\n"
     ]
    },
    {
     "name": "stdout",
     "output_type": "stream",
     "text": [
      "0. Iteration Training loss: 7.2366922922855705\n",
      "50. Iteration Training loss: 3.491825371826016\n",
      "100. Iteration Training loss: 3.3653095977791128\n",
      "150. Iteration Training loss: 2.909877344422552\n",
      "200. Iteration Training loss: 1.2145414234841694\n",
      "250. Iteration Training loss: 1.1974122603985566\n",
      "300. Iteration Training loss: 1.1639351239723035\n",
      "350. Iteration Training loss: 1.1664321406800056\n",
      "400. Iteration Training loss: 1.2079830907755171\n",
      "450. Iteration Training loss: 2.752300212584662\n",
      "500. Iteration Training loss: 1.0627214926323525\n",
      "550. Iteration Training loss: 1.0121171144208663\n",
      "600. Iteration Training loss: 1.0034288044169961\n",
      "650. Iteration Training loss: 1.01211619476783\n",
      "700. Iteration Training loss: 1.0121162052076411\n",
      "750. Iteration Training loss: 1.0121161979753488\n",
      "800. Iteration Training loss: 1.0121220019449717\n",
      "850. Iteration Training loss: 1.042102079866879\n",
      "900. Iteration Training loss: 2.8922543986203872\n",
      "950. Iteration Training loss: 1.037419161228711\n"
     ]
    }
   ],
   "source": [
    "logistic_regressor.fit(x_train,y_train)"
   ]
  },
  {
   "cell_type": "code",
   "execution_count": 6,
   "id": "0ea6702d",
   "metadata": {},
   "outputs": [],
   "source": [
    "test_preds = logistic_regressor.predict(x_test)"
   ]
  },
  {
   "cell_type": "code",
   "execution_count": 7,
   "id": "d6885050",
   "metadata": {},
   "outputs": [],
   "source": [
    "from sklearn.metrics import accuracy_score, precision_score, recall_score"
   ]
  },
  {
   "cell_type": "code",
   "execution_count": 8,
   "id": "f3e3460c",
   "metadata": {},
   "outputs": [
    {
     "name": "stdout",
     "output_type": "stream",
     "text": [
      "Test Accuracy:  0.9385964912280702\n",
      "Test Precision:  0.9848484848484849\n",
      "Test Recall:  0.9154929577464789\n"
     ]
    }
   ],
   "source": [
    "print(\"Test Accuracy: \",accuracy_score(y_test,test_preds))\n",
    "print(\"Test Precision: \",precision_score(y_test,test_preds))\n",
    "print(\"Test Recall: \",recall_score(y_test,test_preds))"
   ]
  },
  {
   "cell_type": "code",
   "execution_count": null,
   "id": "f4b702ab",
   "metadata": {},
   "outputs": [],
   "source": []
  }
 ],
 "metadata": {
  "kernelspec": {
   "display_name": "Python 3 (ipykernel)",
   "language": "python",
   "name": "python3"
  },
  "language_info": {
   "codemirror_mode": {
    "name": "ipython",
    "version": 3
   },
   "file_extension": ".py",
   "mimetype": "text/x-python",
   "name": "python",
   "nbconvert_exporter": "python",
   "pygments_lexer": "ipython3",
   "version": "3.9.10"
  }
 },
 "nbformat": 4,
 "nbformat_minor": 5
}
