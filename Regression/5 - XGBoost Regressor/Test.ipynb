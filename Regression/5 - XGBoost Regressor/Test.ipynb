{
 "cells": [
  {
   "cell_type": "code",
   "execution_count": 1,
   "id": "73289728",
   "metadata": {},
   "outputs": [],
   "source": [
    "import numpy as np\n",
    "import pandas as pd\n",
    "\n",
    "from sklearn.datasets import fetch_california_housing\n",
    "from sklearn.model_selection import train_test_split\n",
    "from sklearn.metrics import mean_squared_error\n",
    "\n",
    "from XGBoostRegressor import XGBoostRegressor"
   ]
  },
  {
   "cell_type": "markdown",
   "id": "be1fd525",
   "metadata": {},
   "source": [
    "<h3> Simple Dataset </h3>"
   ]
  },
  {
   "cell_type": "code",
   "execution_count": 2,
   "id": "5b19b87d",
   "metadata": {},
   "outputs": [],
   "source": [
    "# a simple dataset to experiment with from: https://www.youtube.com/watch?v=OtD8wVaFm6E\n",
    "df = pd.DataFrame({'drug_dosage' : [11,15,18,21,22,30,32,36],'drug_effectiveness' : [-10,6,6.5,7,8,-6,-6.5,-7]})"
   ]
  },
  {
   "cell_type": "code",
   "execution_count": 3,
   "id": "9c612699",
   "metadata": {},
   "outputs": [
    {
     "data": {
      "text/plain": [
       "<AxesSubplot:xlabel='drug_dosage', ylabel='drug_effectiveness'>"
      ]
     },
     "execution_count": 3,
     "metadata": {},
     "output_type": "execute_result"
    },
    {
     "data": {
      "image/png": "[encoded data removed]",
      "text/plain": [
       "<Figure size 432x288 with 1 Axes>"
      ]
     },
     "metadata": {
      "needs_background": "light"
     },
     "output_type": "display_data"
    }
   ],
   "source": [
    "df.plot.scatter(x='drug_dosage',y='drug_effectiveness')"
   ]
  },
  {
   "cell_type": "code",
   "execution_count": 4,
   "id": "c00edad9",
   "metadata": {},
   "outputs": [],
   "source": [
    "x = df.drop('drug_effectiveness',axis = 1)\n",
    "y = df[['drug_effectiveness']]"
   ]
  },
  {
   "cell_type": "code",
   "execution_count": 7,
   "id": "774e45a1",
   "metadata": {},
   "outputs": [],
   "source": [
    "xgb = XGBoostRegressor(max_depth=5,n_estimators=40)"
   ]
  },
  {
   "cell_type": "code",
   "execution_count": 8,
   "id": "2e93f77d",
   "metadata": {},
   "outputs": [
    {
     "name": "stdout",
     "output_type": "stream",
     "text": [
      "Estimator 1 is being trained...\n",
      "Training MSE: 42.3225\n",
      "Estimator 2 is being trained...\n",
      "Training MSE: 34.281225\n",
      "Estimator 3 is being trained...\n",
      "Training MSE: 27.76779225\n",
      "Estimator 4 is being trained...\n",
      "Training MSE: 22.4919117225\n",
      "Estimator 5 is being trained...\n",
      "Training MSE: 18.218448495224997\n",
      "Estimator 6 is being trained...\n",
      "Training MSE: 14.75694328113225\n",
      "Estimator 7 is being trained...\n",
      "Training MSE: 11.953124057717122\n",
      "Estimator 8 is being trained...\n",
      "Training MSE: 9.68203048675087\n",
      "Estimator 9 is being trained...\n",
      "Training MSE: 7.842444694268203\n",
      "Estimator 10 is being trained...\n",
      "Training MSE: 6.352380202357246\n",
      "Estimator 11 is being trained...\n",
      "Training MSE: 5.145427963909369\n",
      "Estimator 12 is being trained...\n",
      "Training MSE: 4.167796650766588\n",
      "Estimator 13 is being trained...\n",
      "Training MSE: 3.3759152871209372\n",
      "Estimator 14 is being trained...\n",
      "Training MSE: 2.734491382567959\n",
      "Estimator 15 is being trained...\n",
      "Training MSE: 2.2149380198800466\n",
      "Estimator 16 is being trained...\n",
      "Training MSE: 1.7940997961028378\n",
      "Estimator 17 is being trained...\n",
      "Training MSE: 1.453220834843299\n",
      "Estimator 18 is being trained...\n",
      "Training MSE: 1.1771088762230715\n",
      "Estimator 19 is being trained...\n",
      "Training MSE: 0.9534581897406874\n",
      "Estimator 20 is being trained...\n",
      "Training MSE: 0.7723011336899568\n",
      "Estimator 21 is being trained...\n",
      "Training MSE: 0.6255639182888648\n",
      "Estimator 22 is being trained...\n",
      "Training MSE: 0.5067067738139803\n",
      "Estimator 23 is being trained...\n",
      "Training MSE: 0.41043248678932426\n",
      "Estimator 24 is being trained...\n",
      "Training MSE: 0.33245031429935257\n",
      "Estimator 25 is being trained...\n",
      "Training MSE: 0.2692847545824758\n",
      "Estimator 26 is being trained...\n",
      "Training MSE: 0.2181206512118056\n",
      "Estimator 27 is being trained...\n",
      "Training MSE: 0.1766777274815625\n",
      "Estimator 28 is being trained...\n",
      "Training MSE: 0.14310895926006556\n",
      "Estimator 29 is being trained...\n",
      "Training MSE: 0.1159182570006532\n",
      "Estimator 30 is being trained...\n",
      "Training MSE: 0.0938937881705291\n",
      "Estimator 31 is being trained...\n",
      "Training MSE: 0.07605396841812861\n",
      "Estimator 32 is being trained...\n",
      "Training MSE: 0.06160371441868422\n",
      "Estimator 33 is being trained...\n",
      "Training MSE: 0.04989900867913416\n",
      "Estimator 34 is being trained...\n",
      "Training MSE: 0.04041819703009866\n",
      "Estimator 35 is being trained...\n",
      "Training MSE: 0.03273873959437987\n",
      "Estimator 36 is being trained...\n",
      "Training MSE: 0.026518379071447693\n",
      "Estimator 37 is being trained...\n",
      "Training MSE: 0.02147988704787271\n",
      "Estimator 38 is being trained...\n",
      "Training MSE: 0.017398708508776964\n",
      "Estimator 39 is being trained...\n",
      "Training MSE: 0.01409295389210935\n",
      "Estimator 40 is being trained...\n",
      "Training MSE: 0.011415292652608539\n"
     ]
    }
   ],
   "source": [
    "xgb.fit(x,y,learning_rate=0.1,regularization_lambda=0,gamma=0)"
   ]
  },
  {
   "cell_type": "code",
   "execution_count": 9,
   "id": "2a74a1ea",
   "metadata": {},
   "outputs": [],
   "source": [
    "# define arbitrary test observations\n",
    "test_x = pd.DataFrame({'drug_dosage' : [5,20,50]})\n",
    "test_x['drug_effectiveness'] = xgb.predict(test_x)"
   ]
  },
  {
   "cell_type": "code",
   "execution_count": 10,
   "id": "5e2c4e10",
   "metadata": {},
   "outputs": [
    {
     "data": {
      "text/html": [
       "<div>\n",
       "<style scoped>\n",
       "    .dataframe tbody tr th:only-of-type {\n",
       "        vertical-align: middle;\n",
       "    }\n",
       "\n",
       "    .dataframe tbody tr th {\n",
       "        vertical-align: top;\n",
       "    }\n",
       "\n",
       "    .dataframe thead th {\n",
       "        text-align: right;\n",
       "    }\n",
       "</style>\n",
       "<table border=\"1\" class=\"dataframe\">\n",
       "  <thead>\n",
       "    <tr style=\"text-align: right;\">\n",
       "      <th></th>\n",
       "      <th>drug_dosage</th>\n",
       "      <th>drug_effectiveness</th>\n",
       "    </tr>\n",
       "  </thead>\n",
       "  <tbody>\n",
       "    <tr>\n",
       "      <th>0</th>\n",
       "      <td>5</td>\n",
       "      <td>-9.855886</td>\n",
       "    </tr>\n",
       "    <tr>\n",
       "      <th>1</th>\n",
       "      <td>20</td>\n",
       "      <td>6.892839</td>\n",
       "    </tr>\n",
       "    <tr>\n",
       "      <th>2</th>\n",
       "      <td>50</td>\n",
       "      <td>-6.900229</td>\n",
       "    </tr>\n",
       "  </tbody>\n",
       "</table>\n",
       "</div>"
      ],
      "text/plain": [
       "   drug_dosage  drug_effectiveness\n",
       "0            5           -9.855886\n",
       "1           20            6.892839\n",
       "2           50           -6.900229"
      ]
     },
     "execution_count": 10,
     "metadata": {},
     "output_type": "execute_result"
    }
   ],
   "source": [
    "test_x"
   ]
  },
  {
   "cell_type": "code",
   "execution_count": 11,
   "id": "55e61484",
   "metadata": {},
   "outputs": [
    {
     "data": {
      "text/plain": [
       "<AxesSubplot:xlabel='drug_dosage', ylabel='drug_effectiveness'>"
      ]
     },
     "execution_count": 11,
     "metadata": {},
     "output_type": "execute_result"
    },
    {
     "data": {
      "image/png": "[encoded data removed]",
      "text/plain": [
       "<Figure size 432x288 with 1 Axes>"
      ]
     },
     "metadata": {
      "needs_background": "light"
     },
     "output_type": "display_data"
    }
   ],
   "source": [
    "ax = df.plot.scatter(x='drug_dosage',y='drug_effectiveness',label='train')\n",
    "test_x.plot.scatter(x='drug_dosage',y='drug_effectiveness',c='red',label='test',ax=ax)"
   ]
  },
  {
   "cell_type": "markdown",
   "id": "a08d79ad",
   "metadata": {},
   "source": [
    "<h3> More Complex Dataset </h3>\n",
    "\n",
    "We can test the model on more complex dataset."
   ]
  },
  {
   "cell_type": "code",
   "execution_count": 12,
   "id": "49d7aaac",
   "metadata": {},
   "outputs": [],
   "source": [
    "data = fetch_california_housing()\n",
    "\n",
    "x = pd.DataFrame(data.data,columns=data.feature_names)\n",
    "y = pd.DataFrame(data.target,columns=data.target_names)"
   ]
  },
  {
   "cell_type": "code",
   "execution_count": 13,
   "id": "95d494a8",
   "metadata": {},
   "outputs": [
    {
     "data": {
      "text/html": [
       "<div>\n",
       "<style scoped>\n",
       "    .dataframe tbody tr th:only-of-type {\n",
       "        vertical-align: middle;\n",
       "    }\n",
       "\n",
       "    .dataframe tbody tr th {\n",
       "        vertical-align: top;\n",
       "    }\n",
       "\n",
       "    .dataframe thead th {\n",
       "        text-align: right;\n",
       "    }\n",
       "</style>\n",
       "<table border=\"1\" class=\"dataframe\">\n",
       "  <thead>\n",
       "    <tr style=\"text-align: right;\">\n",
       "      <th></th>\n",
       "      <th>MedInc</th>\n",
       "      <th>HouseAge</th>\n",
       "      <th>AveRooms</th>\n",
       "      <th>AveBedrms</th>\n",
       "      <th>Population</th>\n",
       "      <th>AveOccup</th>\n",
       "      <th>Latitude</th>\n",
       "      <th>Longitude</th>\n",
       "    </tr>\n",
       "  </thead>\n",
       "  <tbody>\n",
       "    <tr>\n",
       "      <th>0</th>\n",
       "      <td>8.3252</td>\n",
       "      <td>41.0</td>\n",
       "      <td>6.984127</td>\n",
       "      <td>1.023810</td>\n",
       "      <td>322.0</td>\n",
       "      <td>2.555556</td>\n",
       "      <td>37.88</td>\n",
       "      <td>-122.23</td>\n",
       "    </tr>\n",
       "    <tr>\n",
       "      <th>1</th>\n",
       "      <td>8.3014</td>\n",
       "      <td>21.0</td>\n",
       "      <td>6.238137</td>\n",
       "      <td>0.971880</td>\n",
       "      <td>2401.0</td>\n",
       "      <td>2.109842</td>\n",
       "      <td>37.86</td>\n",
       "      <td>-122.22</td>\n",
       "    </tr>\n",
       "    <tr>\n",
       "      <th>2</th>\n",
       "      <td>7.2574</td>\n",
       "      <td>52.0</td>\n",
       "      <td>8.288136</td>\n",
       "      <td>1.073446</td>\n",
       "      <td>496.0</td>\n",
       "      <td>2.802260</td>\n",
       "      <td>37.85</td>\n",
       "      <td>-122.24</td>\n",
       "    </tr>\n",
       "    <tr>\n",
       "      <th>3</th>\n",
       "      <td>5.6431</td>\n",
       "      <td>52.0</td>\n",
       "      <td>5.817352</td>\n",
       "      <td>1.073059</td>\n",
       "      <td>558.0</td>\n",
       "      <td>2.547945</td>\n",
       "      <td>37.85</td>\n",
       "      <td>-122.25</td>\n",
       "    </tr>\n",
       "    <tr>\n",
       "      <th>4</th>\n",
       "      <td>3.8462</td>\n",
       "      <td>52.0</td>\n",
       "      <td>6.281853</td>\n",
       "      <td>1.081081</td>\n",
       "      <td>565.0</td>\n",
       "      <td>2.181467</td>\n",
       "      <td>37.85</td>\n",
       "      <td>-122.25</td>\n",
       "    </tr>\n",
       "  </tbody>\n",
       "</table>\n",
       "</div>"
      ],
      "text/plain": [
       "   MedInc  HouseAge  AveRooms  AveBedrms  Population  AveOccup  Latitude  \\\n",
       "0  8.3252      41.0  6.984127   1.023810       322.0  2.555556     37.88   \n",
       "1  8.3014      21.0  6.238137   0.971880      2401.0  2.109842     37.86   \n",
       "2  7.2574      52.0  8.288136   1.073446       496.0  2.802260     37.85   \n",
       "3  5.6431      52.0  5.817352   1.073059       558.0  2.547945     37.85   \n",
       "4  3.8462      52.0  6.281853   1.081081       565.0  2.181467     37.85   \n",
       "\n",
       "   Longitude  \n",
       "0    -122.23  \n",
       "1    -122.22  \n",
       "2    -122.24  \n",
       "3    -122.25  \n",
       "4    -122.25  "
      ]
     },
     "execution_count": 13,
     "metadata": {},
     "output_type": "execute_result"
    }
   ],
   "source": [
    "x.head()"
   ]
  },
  {
   "cell_type": "code",
   "execution_count": 14,
   "id": "1b013faf",
   "metadata": {},
   "outputs": [
    {
     "name": "stdout",
     "output_type": "stream",
     "text": [
      "Number of records: 20640\n"
     ]
    }
   ],
   "source": [
    "print(f\"Number of records: {x.shape[0]}\")"
   ]
  },
  {
   "cell_type": "markdown",
   "id": "9025124b",
   "metadata": {},
   "source": [
    "It may be to good idea to sample 100 records from the dataset to save some time, since the algorithm is not optimized in terms of execution time. Also, the aim is not to implement the most effective algorithm rather than understanding it."
   ]
  },
  {
   "cell_type": "code",
   "execution_count": 15,
   "id": "bb688f98",
   "metadata": {},
   "outputs": [],
   "source": [
    "x = x.sample(100)\n",
    "y = y.iloc[x.index,:]"
   ]
  },
  {
   "cell_type": "code",
   "execution_count": 16,
   "id": "0b5a7cbb",
   "metadata": {},
   "outputs": [],
   "source": [
    "x_train, x_test, y_train, y_test = train_test_split(x,y,test_size=0.2,random_state=42)"
   ]
  },
  {
   "cell_type": "code",
   "execution_count": 17,
   "id": "c5a725f0",
   "metadata": {},
   "outputs": [],
   "source": [
    "xgb = XGBoostRegressor(max_depth=15,n_estimators=20)"
   ]
  },
  {
   "cell_type": "code",
   "execution_count": 18,
   "id": "08a85bc8",
   "metadata": {},
   "outputs": [
    {
     "name": "stdout",
     "output_type": "stream",
     "text": [
      "Estimator 1 is being trained...\n",
      "Training MSE: 1.18506349004616\n",
      "Estimator 2 is being trained...\n",
      "Training MSE: 0.9599014269373896\n",
      "Estimator 3 is being trained...\n",
      "Training MSE: 0.7775201558192856\n",
      "Estimator 4 is being trained...\n",
      "Training MSE: 0.6297913262136212\n",
      "Estimator 5 is being trained...\n",
      "Training MSE: 0.5101309742330333\n",
      "Estimator 6 is being trained...\n",
      "Training MSE: 0.41320608912875684\n",
      "Estimator 7 is being trained...\n",
      "Training MSE: 0.3346969321942931\n",
      "Estimator 8 is being trained...\n",
      "Training MSE: 0.2711045150773773\n",
      "Estimator 9 is being trained...\n",
      "Training MSE: 0.21959465721267563\n",
      "Estimator 10 is being trained...\n",
      "Training MSE: 0.17787167234226728\n",
      "Estimator 11 is being trained...\n",
      "Training MSE: 0.14407605459723646\n",
      "Estimator 12 is being trained...\n",
      "Training MSE: 0.11670160422376157\n",
      "Estimator 13 is being trained...\n",
      "Training MSE: 0.09452829942124688\n",
      "Estimator 14 is being trained...\n",
      "Training MSE: 0.07656792253120996\n",
      "Estimator 15 is being trained...\n",
      "Training MSE: 0.06202001725028006\n",
      "Estimator 16 is being trained...\n",
      "Training MSE: 0.05023621397272686\n",
      "Estimator 17 is being trained...\n",
      "Training MSE: 0.040691333317908765\n",
      "Estimator 18 is being trained...\n",
      "Training MSE: 0.03295997998750609\n",
      "Estimator 19 is being trained...\n",
      "Training MSE: 0.026697583789879926\n",
      "Estimator 20 is being trained...\n",
      "Training MSE: 0.021625042869802734\n",
      "CPU times: total: 7min 58s\n",
      "Wall time: 8min 4s\n"
     ]
    }
   ],
   "source": [
    "%%time\n",
    "xgb.fit(x_train,y_train,learning_rate=0.1,regularization_lambda=0,gamma=0)"
   ]
  },
  {
   "cell_type": "code",
   "execution_count": 31,
   "id": "ac3bb51c",
   "metadata": {},
   "outputs": [
    {
     "name": "stdout",
     "output_type": "stream",
     "text": [
      "CPU times: total: 2.09 s\n",
      "Wall time: 2.09 s\n"
     ]
    }
   ],
   "source": [
    "%%time\n",
    "train_preds = xgb.predict(x_train)\n",
    "test_preds = xgb.predict(x_test)"
   ]
  },
  {
   "cell_type": "code",
   "execution_count": 32,
   "id": "d4cbab66",
   "metadata": {},
   "outputs": [
    {
     "name": "stdout",
     "output_type": "stream",
     "text": [
      "Train MSE: 0.021625042869802734\n",
      "Test MSE: 0.5260264134643382\n"
     ]
    }
   ],
   "source": [
    "train_mse = mean_squared_error(train_preds,y_train)\n",
    "test_mse = mean_squared_error(test_preds,y_test)\n",
    "\n",
    "print(\"Train MSE:\",train_mse)\n",
    "print(\"Test MSE:\",test_mse)"
   ]
  },
  {
   "cell_type": "markdown",
   "id": "1050750b",
   "metadata": {},
   "source": [
    "It looks like our model overfits the dataset. We can tune the regularization_lambda and gamma hyperparameters to prevent overfitting. In addition to those 2 paramaters, we can tune a lot of parameters like n_estimators, max_depth, min_sample on the leaf etc."
   ]
  },
  {
   "cell_type": "code",
   "execution_count": 27,
   "id": "b20ee1bd",
   "metadata": {},
   "outputs": [],
   "source": [
    "xgb_regularized = XGBoostRegressor(max_depth=6,n_estimators=20)"
   ]
  },
  {
   "cell_type": "code",
   "execution_count": 28,
   "id": "65a8d1a6",
   "metadata": {},
   "outputs": [
    {
     "name": "stdout",
     "output_type": "stream",
     "text": [
      "Estimator 1 is being trained...\n",
      "Training MSE: 1.3385363028461086\n",
      "Estimator 2 is being trained...\n",
      "Training MSE: 1.2351591034542702\n",
      "Estimator 3 is being trained...\n",
      "Training MSE: 1.145813348257266\n",
      "Estimator 4 is being trained...\n",
      "Training MSE: 1.0687399574392167\n",
      "Estimator 5 is being trained...\n",
      "Training MSE: 1.0011907860912497\n",
      "Estimator 6 is being trained...\n",
      "Training MSE: 0.9437661032345004\n",
      "Estimator 7 is being trained...\n",
      "Training MSE: 0.8926416934008845\n",
      "Estimator 8 is being trained...\n",
      "Training MSE: 0.8487594571133528\n",
      "Estimator 9 is being trained...\n",
      "Training MSE: 0.809822467223667\n",
      "Estimator 10 is being trained...\n",
      "Training MSE: 0.7760220031117098\n",
      "Estimator 11 is being trained...\n",
      "Training MSE: 0.7459109709537793\n",
      "Estimator 12 is being trained...\n",
      "Training MSE: 0.7189781771256103\n",
      "Estimator 13 is being trained...\n",
      "Training MSE: 0.7189454075756754\n",
      "Estimator 14 is being trained...\n",
      "Training MSE: 0.7189185161346285\n",
      "Estimator 15 is being trained...\n",
      "Training MSE: 0.7188964484039755\n",
      "Estimator 16 is being trained...\n",
      "Training MSE: 0.7188783391202329\n",
      "Estimator 17 is being trained...\n",
      "Training MSE: 0.7188634782284253\n",
      "Estimator 18 is being trained...\n",
      "Training MSE: 0.7188512830412241\n",
      "Estimator 19 is being trained...\n",
      "Training MSE: 0.7188412753921009\n",
      "Estimator 20 is being trained...\n",
      "Training MSE: 0.718833062886682\n",
      "CPU times: total: 1min 30s\n",
      "Wall time: 1min 31s\n"
     ]
    }
   ],
   "source": [
    "%%time\n",
    "# we can increase the regularization_lambda and decrease the learning_rate\n",
    "xgb_regularized.fit(x_train,y_train,learning_rate=0.1,regularization_lambda=5,gamma=10)"
   ]
  },
  {
   "cell_type": "code",
   "execution_count": 29,
   "id": "bb594f16",
   "metadata": {},
   "outputs": [
    {
     "name": "stdout",
     "output_type": "stream",
     "text": [
      "CPU times: total: 1.89 s\n",
      "Wall time: 1.86 s\n"
     ]
    }
   ],
   "source": [
    "%%time\n",
    "train_preds = xgb_regularized.predict(x_train)\n",
    "test_preds = xgb_regularized.predict(x_test)"
   ]
  },
  {
   "cell_type": "code",
   "execution_count": 30,
   "id": "a9ab6d6c",
   "metadata": {},
   "outputs": [
    {
     "name": "stdout",
     "output_type": "stream",
     "text": [
      "Train MSE: 0.718833062886682\n",
      "Test MSE: 0.8543719404262594\n"
     ]
    }
   ],
   "source": [
    "train_mse = mean_squared_error(train_preds,y_train)\n",
    "test_mse = mean_squared_error(test_preds,y_test)\n",
    "\n",
    "print(\"Train MSE:\",train_mse)\n",
    "print(\"Test MSE:\",test_mse)"
   ]
  },
  {
   "cell_type": "markdown",
   "id": "4525bab3",
   "metadata": {},
   "source": [
    "It looks like overfitting reduced, but now the model underfits the data. By tuning the hyperparameters more, we can train more stable model."
   ]
  },
  {
   "cell_type": "code",
   "execution_count": null,
   "id": "3c8d9b6a",
   "metadata": {},
   "outputs": [],
   "source": []
  }
 ],
 "metadata": {
  "kernelspec": {
   "display_name": "Python 3 (ipykernel)",
   "language": "python",
   "name": "python3"
  },
  "language_info": {
   "codemirror_mode": {
    "name": "ipython",
    "version": 3
   },
   "file_extension": ".py",
   "mimetype": "text/x-python",
   "name": "python",
   "nbconvert_exporter": "python",
   "pygments_lexer": "ipython3",
   "version": "3.9.10"
  }
 },
 "nbformat": 4,
 "nbformat_minor": 5
}
