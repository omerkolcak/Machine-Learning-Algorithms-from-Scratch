{
 "cells": [
  {
   "cell_type": "code",
   "execution_count": 1,
   "id": "73289728",
   "metadata": {},
   "outputs": [],
   "source": [
    "import numpy as np\n",
    "import pandas as pd\n",
    "\n",
    "from sklearn.datasets import fetch_california_housing\n",
    "from sklearn.model_selection import train_test_split\n",
    "from sklearn.metrics import mean_squared_error\n",
    "\n",
    "from XGBoostRegressor import XGBoostRegressor"
   ]
  },
  {
   "cell_type": "markdown",
   "id": "be1fd525",
   "metadata": {},
   "source": [
    "<h3> Simple Dataset </h3>"
   ]
  },
  {
   "cell_type": "code",
   "execution_count": 2,
   "id": "5b19b87d",
   "metadata": {},
   "outputs": [],
   "source": [
    "# a simple dataset to experiment with from: https://www.youtube.com/watch?v=OtD8wVaFm6E\n",
    "df = pd.DataFrame({'drug_dosage' : [11,15,18,21,22,30,32,36],'drug_effectiveness' : [-10,6,6.5,7,8,-6,-6.5,-7]})"
   ]
  },
  {
   "cell_type": "code",
   "execution_count": 3,
   "id": "9c612699",
   "metadata": {},
   "outputs": [
    {
     "data": {
      "text/plain": [
       "<AxesSubplot:xlabel='drug_dosage', ylabel='drug_effectiveness'>"
      ]
     },
     "execution_count": 3,
     "metadata": {},
     "output_type": "execute_result"
    },
    {
     "data": {
      "image/png": "[encoded data removed]",
      "text/plain": [
       "<Figure size 432x288 with 1 Axes>"
      ]
     },
     "metadata": {
      "needs_background": "light"
     },
     "output_type": "display_data"
    }
   ],
   "source": [
    "df.plot.scatter(x='drug_dosage',y='drug_effectiveness')"
   ]
  },
  {
   "cell_type": "code",
   "execution_count": 4,
   "id": "c00edad9",
   "metadata": {},
   "outputs": [],
   "source": [
    "x = df.drop('drug_effectiveness',axis = 1)\n",
    "y = df[['drug_effectiveness']]"
   ]
  },
  {
   "cell_type": "code",
   "execution_count": 5,
   "id": "774e45a1",
   "metadata": {},
   "outputs": [],
   "source": [
    "xgb = XGBoostRegressor(max_depth=5,n_estimators=20)"
   ]
  },
  {
   "cell_type": "code",
   "execution_count": 6,
   "id": "2e93f77d",
   "metadata": {},
   "outputs": [
    {
     "name": "stdout",
     "output_type": "stream",
     "text": [
      "Estimator 1 is being trained...\n",
      "Training MSE: 42.3225\n",
      "Estimator 2 is being trained...\n",
      "Training MSE: 34.281225\n",
      "Estimator 3 is being trained...\n",
      "Training MSE: 27.76779225\n",
      "Estimator 4 is being trained...\n",
      "Training MSE: 22.4919117225\n",
      "Estimator 5 is being trained...\n",
      "Training MSE: 18.218448495224997\n",
      "Estimator 6 is being trained...\n",
      "Training MSE: 14.75694328113225\n",
      "Estimator 7 is being trained...\n",
      "Training MSE: 11.953124057717122\n",
      "Estimator 8 is being trained...\n",
      "Training MSE: 9.68203048675087\n",
      "Estimator 9 is being trained...\n",
      "Training MSE: 7.842444694268203\n",
      "Estimator 10 is being trained...\n",
      "Training MSE: 6.352380202357246\n",
      "Estimator 11 is being trained...\n",
      "Training MSE: 5.145427963909369\n",
      "Estimator 12 is being trained...\n",
      "Training MSE: 4.167796650766588\n",
      "Estimator 13 is being trained...\n",
      "Training MSE: 3.3759152871209372\n",
      "Estimator 14 is being trained...\n",
      "Training MSE: 2.734491382567959\n",
      "Estimator 15 is being trained...\n",
      "Training MSE: 2.2149380198800466\n",
      "Estimator 16 is being trained...\n",
      "Training MSE: 1.7940997961028378\n",
      "Estimator 17 is being trained...\n",
      "Training MSE: 1.453220834843299\n",
      "Estimator 18 is being trained...\n",
      "Training MSE: 1.1771088762230715\n",
      "Estimator 19 is being trained...\n",
      "Training MSE: 0.9534581897406874\n",
      "Estimator 20 is being trained...\n",
      "Training MSE: 0.7723011336899568\n"
     ]
    }
   ],
   "source": [
    "xgb.fit(x,y,learning_rate=0.1,regularization_lambda=0,gamma=0)"
   ]
  },
  {
   "cell_type": "code",
   "execution_count": 7,
   "id": "2a74a1ea",
   "metadata": {},
   "outputs": [],
   "source": [
    "# define arbitrary test observations\n",
    "test_x = pd.DataFrame({'drug_dosage' : [5,20,50]})\n",
    "test_x['drug_effectiveness'] = xgb.predict(test_x)"
   ]
  },
  {
   "cell_type": "code",
   "execution_count": 8,
   "id": "5e2c4e10",
   "metadata": {},
   "outputs": [
    {
     "data": {
      "text/html": [
       "<div>\n",
       "<style scoped>\n",
       "    .dataframe tbody tr th:only-of-type {\n",
       "        vertical-align: middle;\n",
       "    }\n",
       "\n",
       "    .dataframe tbody tr th {\n",
       "        vertical-align: top;\n",
       "    }\n",
       "\n",
       "    .dataframe thead th {\n",
       "        text-align: right;\n",
       "    }\n",
       "</style>\n",
       "<table border=\"1\" class=\"dataframe\">\n",
       "  <thead>\n",
       "    <tr style=\"text-align: right;\">\n",
       "      <th></th>\n",
       "      <th>drug_dosage</th>\n",
       "      <th>drug_effectiveness</th>\n",
       "    </tr>\n",
       "  </thead>\n",
       "  <tbody>\n",
       "    <tr>\n",
       "      <th>0</th>\n",
       "      <td>5</td>\n",
       "      <td>-8.814628</td>\n",
       "    </tr>\n",
       "    <tr>\n",
       "      <th>1</th>\n",
       "      <td>20</td>\n",
       "      <td>6.118569</td>\n",
       "    </tr>\n",
       "    <tr>\n",
       "      <th>2</th>\n",
       "      <td>50</td>\n",
       "      <td>-6.179358</td>\n",
       "    </tr>\n",
       "  </tbody>\n",
       "</table>\n",
       "</div>"
      ],
      "text/plain": [
       "   drug_dosage  drug_effectiveness\n",
       "0            5           -8.814628\n",
       "1           20            6.118569\n",
       "2           50           -6.179358"
      ]
     },
     "execution_count": 8,
     "metadata": {},
     "output_type": "execute_result"
    }
   ],
   "source": [
    "test_x"
   ]
  },
  {
   "cell_type": "code",
   "execution_count": 9,
   "id": "55e61484",
   "metadata": {},
   "outputs": [
    {
     "data": {
      "text/plain": [
       "<AxesSubplot:xlabel='drug_dosage', ylabel='drug_effectiveness'>"
      ]
     },
     "execution_count": 9,
     "metadata": {},
     "output_type": "execute_result"
    },
    {
     "data": {
      "image/png": "[encoded data removed]",
      "text/plain": [
       "<Figure size 432x288 with 1 Axes>"
      ]
     },
     "metadata": {
      "needs_background": "light"
     },
     "output_type": "display_data"
    }
   ],
   "source": [
    "ax = df.plot.scatter(x='drug_dosage',y='drug_effectiveness',label='train')\n",
    "test_x.plot.scatter(x='drug_dosage',y='drug_effectiveness',c='red',label='test',ax=ax)"
   ]
  },
  {
   "cell_type": "markdown",
   "id": "a08d79ad",
   "metadata": {},
   "source": [
    "<h3> More Complex Dataset </h3>\n",
    "\n",
    "We can test the model on more complex dataset."
   ]
  },
  {
   "cell_type": "code",
   "execution_count": 10,
   "id": "49d7aaac",
   "metadata": {},
   "outputs": [],
   "source": [
    "data = fetch_california_housing()\n",
    "\n",
    "x = pd.DataFrame(data.data,columns=data.feature_names)\n",
    "y = pd.DataFrame(data.target,columns=data.target_names)"
   ]
  },
  {
   "cell_type": "code",
   "execution_count": 11,
   "id": "95d494a8",
   "metadata": {},
   "outputs": [
    {
     "data": {
      "text/html": [
       "<div>\n",
       "<style scoped>\n",
       "    .dataframe tbody tr th:only-of-type {\n",
       "        vertical-align: middle;\n",
       "    }\n",
       "\n",
       "    .dataframe tbody tr th {\n",
       "        vertical-align: top;\n",
       "    }\n",
       "\n",
       "    .dataframe thead th {\n",
       "        text-align: right;\n",
       "    }\n",
       "</style>\n",
       "<table border=\"1\" class=\"dataframe\">\n",
       "  <thead>\n",
       "    <tr style=\"text-align: right;\">\n",
       "      <th></th>\n",
       "      <th>MedInc</th>\n",
       "      <th>HouseAge</th>\n",
       "      <th>AveRooms</th>\n",
       "      <th>AveBedrms</th>\n",
       "      <th>Population</th>\n",
       "      <th>AveOccup</th>\n",
       "      <th>Latitude</th>\n",
       "      <th>Longitude</th>\n",
       "    </tr>\n",
       "  </thead>\n",
       "  <tbody>\n",
       "    <tr>\n",
       "      <th>0</th>\n",
       "      <td>8.3252</td>\n",
       "      <td>41.0</td>\n",
       "      <td>6.984127</td>\n",
       "      <td>1.023810</td>\n",
       "      <td>322.0</td>\n",
       "      <td>2.555556</td>\n",
       "      <td>37.88</td>\n",
       "      <td>-122.23</td>\n",
       "    </tr>\n",
       "    <tr>\n",
       "      <th>1</th>\n",
       "      <td>8.3014</td>\n",
       "      <td>21.0</td>\n",
       "      <td>6.238137</td>\n",
       "      <td>0.971880</td>\n",
       "      <td>2401.0</td>\n",
       "      <td>2.109842</td>\n",
       "      <td>37.86</td>\n",
       "      <td>-122.22</td>\n",
       "    </tr>\n",
       "    <tr>\n",
       "      <th>2</th>\n",
       "      <td>7.2574</td>\n",
       "      <td>52.0</td>\n",
       "      <td>8.288136</td>\n",
       "      <td>1.073446</td>\n",
       "      <td>496.0</td>\n",
       "      <td>2.802260</td>\n",
       "      <td>37.85</td>\n",
       "      <td>-122.24</td>\n",
       "    </tr>\n",
       "    <tr>\n",
       "      <th>3</th>\n",
       "      <td>5.6431</td>\n",
       "      <td>52.0</td>\n",
       "      <td>5.817352</td>\n",
       "      <td>1.073059</td>\n",
       "      <td>558.0</td>\n",
       "      <td>2.547945</td>\n",
       "      <td>37.85</td>\n",
       "      <td>-122.25</td>\n",
       "    </tr>\n",
       "    <tr>\n",
       "      <th>4</th>\n",
       "      <td>3.8462</td>\n",
       "      <td>52.0</td>\n",
       "      <td>6.281853</td>\n",
       "      <td>1.081081</td>\n",
       "      <td>565.0</td>\n",
       "      <td>2.181467</td>\n",
       "      <td>37.85</td>\n",
       "      <td>-122.25</td>\n",
       "    </tr>\n",
       "  </tbody>\n",
       "</table>\n",
       "</div>"
      ],
      "text/plain": [
       "   MedInc  HouseAge  AveRooms  AveBedrms  Population  AveOccup  Latitude  \\\n",
       "0  8.3252      41.0  6.984127   1.023810       322.0  2.555556     37.88   \n",
       "1  8.3014      21.0  6.238137   0.971880      2401.0  2.109842     37.86   \n",
       "2  7.2574      52.0  8.288136   1.073446       496.0  2.802260     37.85   \n",
       "3  5.6431      52.0  5.817352   1.073059       558.0  2.547945     37.85   \n",
       "4  3.8462      52.0  6.281853   1.081081       565.0  2.181467     37.85   \n",
       "\n",
       "   Longitude  \n",
       "0    -122.23  \n",
       "1    -122.22  \n",
       "2    -122.24  \n",
       "3    -122.25  \n",
       "4    -122.25  "
      ]
     },
     "execution_count": 11,
     "metadata": {},
     "output_type": "execute_result"
    }
   ],
   "source": [
    "x.head()"
   ]
  },
  {
   "cell_type": "code",
   "execution_count": 12,
   "id": "1b013faf",
   "metadata": {},
   "outputs": [
    {
     "name": "stdout",
     "output_type": "stream",
     "text": [
      "Number of records: 20640\n"
     ]
    }
   ],
   "source": [
    "print(f\"Number of records: {x.shape[0]}\")"
   ]
  },
  {
   "cell_type": "markdown",
   "id": "9025124b",
   "metadata": {},
   "source": [
    "It may be to good idea to sample 100 records from the dataset to save some time, since the algorithm is not optimized in terms of execution time. Also, the aim is not to implement the most effective algorithm rather than understanding it."
   ]
  },
  {
   "cell_type": "code",
   "execution_count": 13,
   "id": "bb688f98",
   "metadata": {},
   "outputs": [],
   "source": [
    "x = x.sample(100)\n",
    "y = y.iloc[x.index,:]"
   ]
  },
  {
   "cell_type": "code",
   "execution_count": 14,
   "id": "0b5a7cbb",
   "metadata": {},
   "outputs": [],
   "source": [
    "x_train, x_test, y_train, y_test = train_test_split(x,y,test_size=0.2,random_state=42)"
   ]
  },
  {
   "cell_type": "code",
   "execution_count": 15,
   "id": "c5a725f0",
   "metadata": {},
   "outputs": [],
   "source": [
    "xgb = XGBoostRegressor(max_depth=15,n_estimators=20)"
   ]
  },
  {
   "cell_type": "code",
   "execution_count": 16,
   "id": "08a85bc8",
   "metadata": {},
   "outputs": [
    {
     "name": "stdout",
     "output_type": "stream",
     "text": [
      "Estimator 1 is being trained...\n",
      "Training MSE: 0.7437259178604646\n",
      "Estimator 2 is being trained...\n",
      "Training MSE: 0.628235552711484\n",
      "Estimator 3 is being trained...\n",
      "Training MSE: 0.5325118994995316\n",
      "Estimator 4 is being trained...\n",
      "Training MSE: 0.45579635371340366\n",
      "Estimator 5 is being trained...\n",
      "Training MSE: 0.39033625056548765\n",
      "Estimator 6 is being trained...\n",
      "Training MSE: 0.3343836282727118\n",
      "Estimator 7 is being trained...\n",
      "Training MSE: 0.2878591860310086\n",
      "Estimator 8 is being trained...\n",
      "Training MSE: 0.249572967196683\n",
      "Estimator 9 is being trained...\n",
      "Training MSE: 0.21415954106718327\n",
      "Estimator 10 is being trained...\n",
      "Training MSE: 0.1824038643700283\n",
      "Estimator 11 is being trained...\n",
      "Training MSE: 0.15368559022510614\n",
      "Estimator 12 is being trained...\n",
      "Training MSE: 0.13519181957708626\n",
      "Estimator 13 is being trained...\n",
      "Training MSE: 0.11542797559354408\n",
      "Estimator 14 is being trained...\n",
      "Training MSE: 0.09763400285878131\n",
      "Estimator 15 is being trained...\n",
      "Training MSE: 0.08348017494348442\n",
      "Estimator 16 is being trained...\n",
      "Training MSE: 0.0713411230545905\n",
      "Estimator 17 is being trained...\n",
      "Training MSE: 0.06144802547979285\n",
      "Estimator 18 is being trained...\n",
      "Training MSE: 0.05210794513997578\n",
      "Estimator 19 is being trained...\n",
      "Training MSE: 0.04310158121080652\n",
      "Estimator 20 is being trained...\n",
      "Training MSE: 0.03587316569397246\n",
      "Wall time: 3min 38s\n"
     ]
    }
   ],
   "source": [
    "%%time\n",
    "xgb.fit(x_train,y_train,learning_rate=0.1,regularization_lambda=0,gamma=0)"
   ]
  },
  {
   "cell_type": "code",
   "execution_count": 29,
   "id": "ac3bb51c",
   "metadata": {},
   "outputs": [
    {
     "name": "stdout",
     "output_type": "stream",
     "text": [
      "Wall time: 543 ms\n"
     ]
    }
   ],
   "source": [
    "%%time\n",
    "train_preds = xgb.predict(x_train)\n",
    "test_preds = xgb.predict(x_test)"
   ]
  },
  {
   "cell_type": "code",
   "execution_count": 30,
   "id": "d4cbab66",
   "metadata": {},
   "outputs": [
    {
     "name": "stdout",
     "output_type": "stream",
     "text": [
      "Train RMSE: 0.18940212695208167\n",
      "Test RMSE: 1.1700209586587977\n"
     ]
    }
   ],
   "source": [
    "train_rmse = np.sqrt(mean_squared_error(train_preds,y_train))\n",
    "test_rmse = np.sqrt(mean_squared_error(test_preds,y_test))\n",
    "\n",
    "print(\"Train RMSE:\",train_rmse)\n",
    "print(\"Test RMSE:\",test_rmse)"
   ]
  },
  {
   "cell_type": "markdown",
   "id": "1050750b",
   "metadata": {},
   "source": [
    "It looks like our model overfits the dataset. We can tune the regularization_lambda and gamma hyperparameters to prevent overfitting. In addition to those 2 paramaters, we can tune a lot of parameters like n_estimators, max_depth, min_sample on the leaf etc."
   ]
  },
  {
   "cell_type": "code",
   "execution_count": 31,
   "id": "b20ee1bd",
   "metadata": {},
   "outputs": [],
   "source": [
    "xgb_regularized = XGBoostRegressor(max_depth=6,n_estimators=20)"
   ]
  },
  {
   "cell_type": "code",
   "execution_count": 32,
   "id": "65a8d1a6",
   "metadata": {},
   "outputs": [
    {
     "name": "stdout",
     "output_type": "stream",
     "text": [
      "Estimator 1 is being trained...\n",
      "Training MSE: 0.8639062953966622\n",
      "Estimator 2 is being trained...\n",
      "Training MSE: 0.84292186177232\n",
      "Estimator 3 is being trained...\n",
      "Training MSE: 0.8230084435015265\n",
      "Estimator 4 is being trained...\n",
      "Training MSE: 0.804344604052309\n",
      "Estimator 5 is being trained...\n",
      "Training MSE: 0.7865905557352143\n",
      "Estimator 6 is being trained...\n",
      "Training MSE: 0.7626231714790523\n",
      "Estimator 7 is being trained...\n",
      "Training MSE: 0.7453261278806286\n",
      "Estimator 8 is being trained...\n",
      "Training MSE: 0.7239450808921527\n",
      "Estimator 9 is being trained...\n",
      "Training MSE: 0.7057951037244393\n",
      "Estimator 10 is being trained...\n",
      "Training MSE: 0.6850271808760614\n",
      "Estimator 11 is being trained...\n",
      "Training MSE: 0.6685930136116012\n",
      "Estimator 12 is being trained...\n",
      "Training MSE: 0.6540687159375549\n",
      "Estimator 13 is being trained...\n",
      "Training MSE: 0.6360771935110258\n",
      "Estimator 14 is being trained...\n",
      "Training MSE: 0.6176204221013842\n",
      "Estimator 15 is being trained...\n",
      "Training MSE: 0.6048943888084626\n",
      "Estimator 16 is being trained...\n",
      "Training MSE: 0.5927111857724381\n",
      "Estimator 17 is being trained...\n",
      "Training MSE: 0.5777129711292617\n",
      "Estimator 18 is being trained...\n",
      "Training MSE: 0.5670347630650472\n",
      "Estimator 19 is being trained...\n",
      "Training MSE: 0.5515616641750286\n",
      "Estimator 20 is being trained...\n",
      "Training MSE: 0.5372157369986882\n",
      "Wall time: 1min 19s\n"
     ]
    }
   ],
   "source": [
    "%%time\n",
    "# we can increase the regularization_lambda and decrease the learning_rate\n",
    "xgb_regularized.fit(x_train,y_train,learning_rate=0.1,regularization_lambda=5,gamma=0)"
   ]
  },
  {
   "cell_type": "code",
   "execution_count": 33,
   "id": "bb594f16",
   "metadata": {},
   "outputs": [
    {
     "name": "stdout",
     "output_type": "stream",
     "text": [
      "Wall time: 548 ms\n"
     ]
    }
   ],
   "source": [
    "%%time\n",
    "train_preds = xgb_regularized.predict(x_train)\n",
    "test_preds = xgb_regularized.predict(x_test)"
   ]
  },
  {
   "cell_type": "code",
   "execution_count": 34,
   "id": "a9ab6d6c",
   "metadata": {},
   "outputs": [
    {
     "name": "stdout",
     "output_type": "stream",
     "text": [
      "Train RMSE: 0.7329500235341344\n",
      "Test RMSE: 0.9361215777289373\n"
     ]
    }
   ],
   "source": [
    "train_rmse = np.sqrt(mean_squared_error(train_preds,y_train))\n",
    "test_rmse = np.sqrt(mean_squared_error(test_preds,y_test))\n",
    "\n",
    "print(\"Train RMSE:\",train_rmse)\n",
    "print(\"Test RMSE:\",test_rmse)"
   ]
  },
  {
   "cell_type": "markdown",
   "id": "4525bab3",
   "metadata": {},
   "source": [
    "It looks like overfitting reduced, but now the model underfits the data. By tuning the hyperparameters more, we can train more stable model."
   ]
  },
  {
   "cell_type": "code",
   "execution_count": null,
   "id": "3c8d9b6a",
   "metadata": {},
   "outputs": [],
   "source": []
  }
 ],
 "metadata": {
  "kernelspec": {
   "display_name": "Python 3 (ipykernel)",
   "language": "python",
   "name": "python3"
  },
  "language_info": {
   "codemirror_mode": {
    "name": "ipython",
    "version": 3
   },
   "file_extension": ".py",
   "mimetype": "text/x-python",
   "name": "python",
   "nbconvert_exporter": "python",
   "pygments_lexer": "ipython3",
   "version": "3.9.7"
  }
 },
 "nbformat": 4,
 "nbformat_minor": 5
}
