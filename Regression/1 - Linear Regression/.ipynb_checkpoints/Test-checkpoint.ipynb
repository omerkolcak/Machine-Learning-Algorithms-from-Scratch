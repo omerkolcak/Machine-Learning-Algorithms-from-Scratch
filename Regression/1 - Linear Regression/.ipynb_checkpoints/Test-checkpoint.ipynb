{
 "cells": [
  {
   "cell_type": "code",
   "execution_count": 1,
   "id": "a2bff1ff",
   "metadata": {},
   "outputs": [],
   "source": [
    "import sklearn.datasets as dt\n",
    "from sklearn.model_selection import train_test_split\n",
    "from LinearRegressor import *"
   ]
  },
  {
   "cell_type": "code",
   "execution_count": 2,
   "id": "4db6ee68",
   "metadata": {},
   "outputs": [],
   "source": [
    "x,y = dt.make_regression(n_samples=5000,n_features=10,noise=10,random_state=42)"
   ]
  },
  {
   "cell_type": "code",
   "execution_count": 3,
   "id": "34e09378",
   "metadata": {},
   "outputs": [],
   "source": [
    "x_train,x_test,y_train,y_test = train_test_split(x,y,test_size=0.2,random_state=42)"
   ]
  },
  {
   "cell_type": "code",
   "execution_count": 4,
   "id": "c3ed5c0a",
   "metadata": {},
   "outputs": [],
   "source": [
    "linear_regressor = LinearRegressor(learning_rate=0.05,iterations=500)"
   ]
  },
  {
   "cell_type": "code",
   "execution_count": 5,
   "id": "c12c0a8b",
   "metadata": {},
   "outputs": [
    {
     "name": "stdout",
     "output_type": "stream",
     "text": [
      "0. Iteration Training loss: 23885.315511523633\n",
      "50. Iteration Training loss: 245.1395208015513\n",
      "100. Iteration Training loss: 102.02509240039318\n",
      "150. Iteration Training loss: 101.06590987832202\n",
      "200. Iteration Training loss: 101.05891624026809\n",
      "250. Iteration Training loss: 101.05886186040848\n",
      "300. Iteration Training loss: 101.05886141708548\n",
      "350. Iteration Training loss: 101.05886141334375\n",
      "400. Iteration Training loss: 101.05886141331136\n",
      "450. Iteration Training loss: 101.05886141331106\n"
     ]
    }
   ],
   "source": [
    "linear_regressor.fit(x_train,y_train)"
   ]
  },
  {
   "cell_type": "code",
   "execution_count": 6,
   "id": "cbb875a5",
   "metadata": {},
   "outputs": [
    {
     "data": {
      "text/plain": [
       "100.37071864359238"
      ]
     },
     "execution_count": 6,
     "metadata": {},
     "output_type": "execute_result"
    }
   ],
   "source": [
    "test_preds = linear_regressor.predict(x_test)\n",
    "mean_squared_error(test_preds,y_test)"
   ]
  },
  {
   "cell_type": "code",
   "execution_count": null,
   "id": "037f2788",
   "metadata": {},
   "outputs": [],
   "source": []
  }
 ],
 "metadata": {
  "kernelspec": {
   "display_name": "Python 3 (ipykernel)",
   "language": "python",
   "name": "python3"
  },
  "language_info": {
   "codemirror_mode": {
    "name": "ipython",
    "version": 3
   },
   "file_extension": ".py",
   "mimetype": "text/x-python",
   "name": "python",
   "nbconvert_exporter": "python",
   "pygments_lexer": "ipython3",
   "version": "3.9.10"
  }
 },
 "nbformat": 4,
 "nbformat_minor": 5
}
