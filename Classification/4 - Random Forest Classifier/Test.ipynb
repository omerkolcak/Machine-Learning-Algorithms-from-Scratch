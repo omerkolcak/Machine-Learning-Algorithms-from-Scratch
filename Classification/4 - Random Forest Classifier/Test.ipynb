{
 "cells": [
  {
   "cell_type": "code",
   "execution_count": 1,
   "id": "9d7e2579",
   "metadata": {},
   "outputs": [],
   "source": [
    "from RandomForestClassifier import *\n",
    "import numpy as np\n",
    "import pandas as pd\n",
    "from sklearn import datasets\n",
    "from sklearn.model_selection import train_test_split\n",
    "from sklearn.metrics import accuracy_score"
   ]
  },
  {
   "cell_type": "code",
   "execution_count": 2,
   "id": "1d44c671",
   "metadata": {},
   "outputs": [],
   "source": [
    "dataset = datasets.load_breast_cancer(as_frame=True)\n",
    "\n",
    "x = dataset.data\n",
    "y = dataset.target"
   ]
  },
  {
   "cell_type": "code",
   "execution_count": 3,
   "id": "82b5eca9",
   "metadata": {},
   "outputs": [],
   "source": [
    "x_train, x_test, y_train, y_test = train_test_split(x,y,test_size=0.2,random_state=42)"
   ]
  },
  {
   "cell_type": "code",
   "execution_count": 4,
   "id": "d76f6fb6",
   "metadata": {},
   "outputs": [],
   "source": [
    "x_train = pd.DataFrame(x_train,columns=x.columns)\n",
    "x_test = pd.DataFrame(x_test,columns=x.columns)\n",
    "y_train = pd.DataFrame(y_train)"
   ]
  },
  {
   "cell_type": "code",
   "execution_count": 23,
   "id": "a7271973",
   "metadata": {},
   "outputs": [],
   "source": [
    "rfc = RandomForestClassifier(number_of_estimators=3,max_depth=8,number_of_features=6,\n",
    "                             measure_of_disorder=calculate_gini_impurity)"
   ]
  },
  {
   "cell_type": "code",
   "execution_count": 24,
   "id": "4534a610",
   "metadata": {},
   "outputs": [
    {
     "name": "stdout",
     "output_type": "stream",
     "text": [
      "Tree 1 is being trained...\n",
      "Tree 2 is being trained...\n",
      "Tree 3 is being trained...\n"
     ]
    }
   ],
   "source": [
    "rfc.fit(x_train,y_train)"
   ]
  },
  {
   "cell_type": "code",
   "execution_count": 25,
   "id": "51b6433f",
   "metadata": {},
   "outputs": [],
   "source": [
    "train_preds = rfc.predict(x_train)\n",
    "test_preds = rfc.predict(x_test)"
   ]
  },
  {
   "cell_type": "code",
   "execution_count": 26,
   "id": "64d8e4a5",
   "metadata": {},
   "outputs": [
    {
     "name": "stdout",
     "output_type": "stream",
     "text": [
      "Training Accuracy : 0.9868131868131869\n",
      "Test Accuracy : 0.9736842105263158\n"
     ]
    }
   ],
   "source": [
    "print(\"Training Accuracy :\",accuracy_score(train_preds,y_train))\n",
    "print(\"Test Accuracy :\",accuracy_score(test_preds,y_test))"
   ]
  },
  {
   "cell_type": "code",
   "execution_count": null,
   "id": "625b534b",
   "metadata": {},
   "outputs": [],
   "source": []
  }
 ],
 "metadata": {
  "kernelspec": {
   "display_name": "Python 3 (ipykernel)",
   "language": "python",
   "name": "python3"
  },
  "language_info": {
   "codemirror_mode": {
    "name": "ipython",
    "version": 3
   },
   "file_extension": ".py",
   "mimetype": "text/x-python",
   "name": "python",
   "nbconvert_exporter": "python",
   "pygments_lexer": "ipython3",
   "version": "3.9.10"
  }
 },
 "nbformat": 4,
 "nbformat_minor": 5
}
