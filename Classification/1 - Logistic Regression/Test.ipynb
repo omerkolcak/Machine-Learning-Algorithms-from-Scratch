{
 "cells": [
  {
   "cell_type": "code",
   "execution_count": 41,
   "id": "693915f8",
   "metadata": {},
   "outputs": [],
   "source": [
    "import numpy as np\n",
    "from LogisticRegressor import LogisticRegressor\n",
    "\n",
    "from sklearn import datasets\n",
    "from sklearn.model_selection import train_test_split"
   ]
  },
  {
   "cell_type": "code",
   "execution_count": 42,
   "id": "1d25de67",
   "metadata": {},
   "outputs": [],
   "source": [
    "dataset = datasets.load_breast_cancer()\n",
    "\n",
    "x = dataset.data\n",
    "y = dataset.target"
   ]
  },
  {
   "cell_type": "code",
   "execution_count": 43,
   "id": "97c6b778",
   "metadata": {},
   "outputs": [],
   "source": [
    "x_train,x_test,y_train,y_test = train_test_split(x,y,test_size=0.20,random_state=42)"
   ]
  },
  {
   "cell_type": "code",
   "execution_count": 49,
   "id": "95b7c146",
   "metadata": {},
   "outputs": [],
   "source": [
    "logistic_regressor = LogisticRegressor(learning_rate=0.001, iterations=1000,reg_lambda=0.1)"
   ]
  },
  {
   "cell_type": "code",
   "execution_count": 50,
   "id": "6b22d382",
   "metadata": {},
   "outputs": [
    {
     "name": "stdout",
     "output_type": "stream",
     "text": [
      "0. Iteration Training loss: 4.276223172732223\n",
      "50. Iteration Training loss: 7.23669199085216\n",
      "100. Iteration Training loss: 6.329962222347326\n",
      "150. Iteration Training loss: 3.5769814974991547\n",
      "200. Iteration Training loss: 1.216002194512806\n",
      "250. Iteration Training loss: 1.3215278574053118\n",
      "300. Iteration Training loss: 1.3985303131489348\n",
      "350. Iteration Training loss: 1.2111900251859984\n",
      "400. Iteration Training loss: 1.068755155685749\n",
      "450. Iteration Training loss: 1.1241754448257666\n",
      "500. Iteration Training loss: 1.1920357028853397\n",
      "550. Iteration Training loss: 1.1451192543680269\n",
      "600. Iteration Training loss: 1.2759012903691644\n",
      "650. Iteration Training loss: 5.957777243059889\n",
      "700. Iteration Training loss: 1.115542734570303\n",
      "750. Iteration Training loss: 1.0679422077759442\n",
      "800. Iteration Training loss: 1.0340035724602843\n"
     ]
    },
    {
     "name": "stderr",
     "output_type": "stream",
     "text": [
      "C:\\Users\\Omer\\Documents\\ML Algorithms from Scratch\\Classification\\1 - Logistic Regression\\LogisticRegressor.py:46: RuntimeWarning: overflow encountered in exp\n",
      "  probs = 1 / (1 + np.exp(-theta))\n",
      "C:\\Users\\Omer\\Documents\\ML Algorithms from Scratch\\Classification\\1 - Logistic Regression\\LogisticRegressor.py:8: RuntimeWarning: overflow encountered in exp\n",
      "  probs = 1 / (1 + np.exp(-theta))\n"
     ]
    },
    {
     "name": "stdout",
     "output_type": "stream",
     "text": [
      "850. Iteration Training loss: 0.9971840876602426\n",
      "900. Iteration Training loss: 1.0240676442104273\n",
      "950. Iteration Training loss: 1.005924794423123\n"
     ]
    }
   ],
   "source": [
    "logistic_regressor.fit(x_train,y_train)"
   ]
  },
  {
   "cell_type": "code",
   "execution_count": 51,
   "id": "0ea6702d",
   "metadata": {},
   "outputs": [],
   "source": [
    "test_preds = logistic_regressor.predict(x_test)"
   ]
  },
  {
   "cell_type": "code",
   "execution_count": 52,
   "id": "d6885050",
   "metadata": {},
   "outputs": [],
   "source": [
    "from sklearn.metrics import accuracy_score, precision_score, recall_score"
   ]
  },
  {
   "cell_type": "code",
   "execution_count": 53,
   "id": "f3e3460c",
   "metadata": {},
   "outputs": [
    {
     "name": "stdout",
     "output_type": "stream",
     "text": [
      "Test Accuracy:  0.956140350877193\n",
      "Test Precision:  0.9583333333333334\n",
      "Test Recall:  0.971830985915493\n"
     ]
    }
   ],
   "source": [
    "print(\"Test Accuracy: \",accuracy_score(y_test,test_preds))\n",
    "print(\"Test Precision: \",precision_score(y_test,test_preds))\n",
    "print(\"Test Recall: \",recall_score(y_test,test_preds))"
   ]
  },
  {
   "cell_type": "code",
   "execution_count": null,
   "id": "f4b702ab",
   "metadata": {},
   "outputs": [],
   "source": []
  }
 ],
 "metadata": {
  "kernelspec": {
   "display_name": "Python 3 (ipykernel)",
   "language": "python",
   "name": "python3"
  },
  "language_info": {
   "codemirror_mode": {
    "name": "ipython",
    "version": 3
   },
   "file_extension": ".py",
   "mimetype": "text/x-python",
   "name": "python",
   "nbconvert_exporter": "python",
   "pygments_lexer": "ipython3",
   "version": "3.9.10"
  }
 },
 "nbformat": 4,
 "nbformat_minor": 5
}
