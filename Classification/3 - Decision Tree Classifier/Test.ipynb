{
 "cells": [
  {
   "cell_type": "code",
   "execution_count": 1,
   "id": "9ae5d5bf",
   "metadata": {},
   "outputs": [],
   "source": [
    "from DecisionTreeClassifier import DecisionTreeClassifier, calculate_gini_impurity, calculate_entropy\n",
    "import numpy as np\n",
    "import pandas as pd\n",
    "from sklearn import datasets\n",
    "from sklearn.model_selection import train_test_split\n",
    "from sklearn.metrics import accuracy_score\n",
    "import time"
   ]
  },
  {
   "cell_type": "code",
   "execution_count": 3,
   "id": "ca2a94f8",
   "metadata": {},
   "outputs": [],
   "source": [
    "dataset = datasets.load_breast_cancer(as_frame=True)\n",
    "\n",
    "x = dataset.data\n",
    "y = dataset.target"
   ]
  },
  {
   "cell_type": "code",
   "execution_count": 4,
   "id": "490063ac",
   "metadata": {},
   "outputs": [],
   "source": [
    "x_train, x_test, y_train, y_test = train_test_split(x,y,test_size=0.2,random_state=42)"
   ]
  },
  {
   "cell_type": "code",
   "execution_count": 5,
   "id": "3eff95a7",
   "metadata": {},
   "outputs": [],
   "source": [
    "x_train = pd.DataFrame(x_train,columns=x.columns)\n",
    "x_test = pd.DataFrame(x_test,columns=x.columns)\n",
    "y_train = pd.DataFrame(y_train)"
   ]
  },
  {
   "cell_type": "code",
   "execution_count": 6,
   "id": "10bf186b",
   "metadata": {},
   "outputs": [],
   "source": [
    "dtc = DecisionTreeClassifier(max_depth=5,measure_of_disorder=calculate_gini_impurity)"
   ]
  },
  {
   "cell_type": "code",
   "execution_count": 7,
   "id": "9ae287b5",
   "metadata": {},
   "outputs": [
    {
     "name": "stdout",
     "output_type": "stream",
     "text": [
      "Time elapsed for training: 59.519875049591064\n"
     ]
    }
   ],
   "source": [
    "start_time = time.time()\n",
    "dtc.fit(x_train,y_train)\n",
    "print(\"Time elapsed for training:\",time.time() - start_time)"
   ]
  },
  {
   "cell_type": "code",
   "execution_count": 8,
   "id": "6a274fa7",
   "metadata": {},
   "outputs": [],
   "source": [
    "train_preds = dtc.predict(x_train)\n",
    "test_preds = dtc.predict(x_test)"
   ]
  },
  {
   "cell_type": "code",
   "execution_count": 9,
   "id": "1844c82a",
   "metadata": {},
   "outputs": [
    {
     "name": "stdout",
     "output_type": "stream",
     "text": [
      "Training Accuracy: 0.9956043956043956\n",
      "Test Accuracy: 0.9298245614035088\n"
     ]
    }
   ],
   "source": [
    "print(\"Training Accuracy:\",accuracy_score(train_preds,np.array(y_train)))\n",
    "print(\"Test Accuracy:\",accuracy_score(test_preds,y_test))"
   ]
  },
  {
   "cell_type": "code",
   "execution_count": 209,
   "id": "6901bc9f",
   "metadata": {},
   "outputs": [],
   "source": []
  }
 ],
 "metadata": {
  "kernelspec": {
   "display_name": "Python 3 (ipykernel)",
   "language": "python",
   "name": "python3"
  },
  "language_info": {
   "codemirror_mode": {
    "name": "ipython",
    "version": 3
   },
   "file_extension": ".py",
   "mimetype": "text/x-python",
   "name": "python",
   "nbconvert_exporter": "python",
   "pygments_lexer": "ipython3",
   "version": "3.9.10"
  }
 },
 "nbformat": 4,
 "nbformat_minor": 5
}
