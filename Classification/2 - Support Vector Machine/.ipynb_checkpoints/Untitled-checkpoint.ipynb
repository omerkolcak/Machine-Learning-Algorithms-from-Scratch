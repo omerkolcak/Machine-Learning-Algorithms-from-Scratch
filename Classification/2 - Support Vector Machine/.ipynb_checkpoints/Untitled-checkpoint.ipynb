{
 "cells": [
  {
   "cell_type": "code",
   "execution_count": 6,
   "id": "67bf8a0a",
   "metadata": {},
   "outputs": [],
   "source": [
    "import numpy as np\n",
    "from scipy.optimize import minimize"
   ]
  },
  {
   "cell_type": "markdown",
   "id": "f07111c4",
   "metadata": {},
   "source": [
    "Sample scipy optimization for a function with a given constraint. </br>\n",
    "* Minimize f(x,y,z) = 3x^2 + y^2 - 2z^2 on constraint 3x + 2y - 8z = -50\n",
    "* Result -> x = 2, y = 4, z = 8"
   ]
  },
  {
   "cell_type": "code",
   "execution_count": 7,
   "id": "e3473e30",
   "metadata": {},
   "outputs": [
    {
     "name": "stdout",
     "output_type": "stream",
     "text": [
      "Optimization terminated successfully    (Exit mode 0)\n",
      "            Current function value: -99.99999999903355\n",
      "            Iterations: 5\n",
      "            Function evaluations: 21\n",
      "            Gradient evaluations: 5\n"
     ]
    }
   ],
   "source": [
    "x = [0,0,0]\n",
    "c1,c2,c3 = 3,1,-2\n",
    "\n",
    "res = minimize(\n",
    "    lambda x: c1*x[0]**2+c2*x[1]**2+c3*x[2]**2, #what we want to minimize\n",
    "    x, \n",
    "    constraints = (\n",
    "        {'type':'eq','fun': lambda x: 3*x[0] + 2*x[1] - 8*x[2] + 50}, #1st subject\n",
    "    ),\n",
    "    method='SLSQP',options={'disp': True,'maxiter' : 10000})"
   ]
  },
  {
   "cell_type": "code",
   "execution_count": 8,
   "id": "694a1880",
   "metadata": {},
   "outputs": [
    {
     "data": {
      "text/plain": [
       "     fun: -99.99999999903355\n",
       "     jac: array([ 11.99988651,   7.99998474, -31.99996471])\n",
       " message: 'Optimization terminated successfully'\n",
       "    nfev: 21\n",
       "     nit: 5\n",
       "    njev: 5\n",
       "  status: 0\n",
       " success: True\n",
       "       x: array([1.9999811 , 3.99999262, 7.99999107])"
      ]
     },
     "execution_count": 8,
     "metadata": {},
     "output_type": "execute_result"
    }
   ],
   "source": [
    "res"
   ]
  },
  {
   "cell_type": "code",
   "execution_count": 110,
   "id": "d506d57b",
   "metadata": {},
   "outputs": [],
   "source": [
    "class KernelSupportVectorClassifier():\n",
    "    def __init__(self, kernel_function):\n",
    "        self.kernel = kernel_function\n",
    "        self.w = None\n",
    "        self.b = None\n",
    "        self.alpha = None\n",
    "        self.n = None\n",
    "        self.m = None\n",
    "        self.res = None\n",
    "        \n",
    "    def fit(self,x,y):\n",
    "        \n",
    "        self.m,self.n = x.shape\n",
    "        \n",
    "        y_2d = y.reshape(-1,1)\n",
    "        xy = y_2d * X\n",
    "        xxyy = np.dot(xy,xy.T)\n",
    "        \n",
    "        A = -np.eye(self.m)\n",
    "        b = np.zeros(self.m)\n",
    "        \n",
    "        constraints = (\n",
    "            {'type': 'eq', 'fun': lambda a: np.dot(a, y), 'jac': lambda a: y},\n",
    "            {'type': 'ineq', 'fun' : lambda a: b - np.dot(A, a), 'jac': lambda a: -A}\n",
    "        )\n",
    "        \n",
    "        res = minimize(fun=lambda a: self.lagrange_problem(a,xxyy),\n",
    "                    x0=np.ones(self.m), \n",
    "                    method='SLSQP', \n",
    "                    jac=lambda a: self.partial_derivative(a,xxyy), \n",
    "                    constraints=constraints)\n",
    "        \n",
    "        self.res =res\n",
    "        \n",
    "    def lagrange_problem(self,alpha,mat):\n",
    "        return np.sum(alpha) - np.dot(alpha,np.dot(alpha,mat)) / 2\n",
    "    \n",
    "    def partial_derivative(self,alpha,mat):\n",
    "        return np.ones_like(alpha) - alpha.dot(mat)"
   ]
  },
  {
   "cell_type": "code",
   "execution_count": 111,
   "id": "8698d173",
   "metadata": {},
   "outputs": [],
   "source": [
    "clf = KernelSupportVectorClassifier(None)"
   ]
  },
  {
   "cell_type": "code",
   "execution_count": 112,
   "id": "a3667226",
   "metadata": {},
   "outputs": [
    {
     "ename": "ValueError",
     "evalue": "all the input array dimensions for the concatenation axis must match exactly, but along dimension 1, the array at index 0 has size 1 and the array at index 1 has size 4",
     "output_type": "error",
     "traceback": [
      "\u001b[1;31m---------------------------------------------------------------------------\u001b[0m",
      "\u001b[1;31mValueError\u001b[0m                                Traceback (most recent call last)",
      "Input \u001b[1;32mIn [112]\u001b[0m, in \u001b[0;36m<cell line: 1>\u001b[1;34m()\u001b[0m\n\u001b[1;32m----> 1\u001b[0m \u001b[43mclf\u001b[49m\u001b[38;5;241;43m.\u001b[39;49m\u001b[43mfit\u001b[49m\u001b[43m(\u001b[49m\u001b[43mX\u001b[49m\u001b[43m,\u001b[49m\u001b[43my\u001b[49m\u001b[43m)\u001b[49m\n",
      "Input \u001b[1;32mIn [110]\u001b[0m, in \u001b[0;36mKernelSupportVectorClassifier.fit\u001b[1;34m(self, x, y)\u001b[0m\n\u001b[0;32m     20\u001b[0m b \u001b[38;5;241m=\u001b[39m np\u001b[38;5;241m.\u001b[39mzeros(\u001b[38;5;28mself\u001b[39m\u001b[38;5;241m.\u001b[39mm)\n\u001b[0;32m     22\u001b[0m constraints \u001b[38;5;241m=\u001b[39m (\n\u001b[0;32m     23\u001b[0m     {\u001b[38;5;124m'\u001b[39m\u001b[38;5;124mtype\u001b[39m\u001b[38;5;124m'\u001b[39m: \u001b[38;5;124m'\u001b[39m\u001b[38;5;124meq\u001b[39m\u001b[38;5;124m'\u001b[39m, \u001b[38;5;124m'\u001b[39m\u001b[38;5;124mfun\u001b[39m\u001b[38;5;124m'\u001b[39m: \u001b[38;5;28;01mlambda\u001b[39;00m a: np\u001b[38;5;241m.\u001b[39mdot(a, y), \u001b[38;5;124m'\u001b[39m\u001b[38;5;124mjac\u001b[39m\u001b[38;5;124m'\u001b[39m: \u001b[38;5;28;01mlambda\u001b[39;00m a: y},\n\u001b[0;32m     24\u001b[0m     {\u001b[38;5;124m'\u001b[39m\u001b[38;5;124mtype\u001b[39m\u001b[38;5;124m'\u001b[39m: \u001b[38;5;124m'\u001b[39m\u001b[38;5;124mineq\u001b[39m\u001b[38;5;124m'\u001b[39m, \u001b[38;5;124m'\u001b[39m\u001b[38;5;124mfun\u001b[39m\u001b[38;5;124m'\u001b[39m : \u001b[38;5;28;01mlambda\u001b[39;00m a: b \u001b[38;5;241m-\u001b[39m np\u001b[38;5;241m.\u001b[39mdot(A, a), \u001b[38;5;124m'\u001b[39m\u001b[38;5;124mjac\u001b[39m\u001b[38;5;124m'\u001b[39m: \u001b[38;5;28;01mlambda\u001b[39;00m a: \u001b[38;5;241m-\u001b[39mA}\n\u001b[0;32m     25\u001b[0m )\n\u001b[1;32m---> 27\u001b[0m res \u001b[38;5;241m=\u001b[39m \u001b[43mminimize\u001b[49m\u001b[43m(\u001b[49m\u001b[43mfun\u001b[49m\u001b[38;5;241;43m=\u001b[39;49m\u001b[38;5;28;43;01mlambda\u001b[39;49;00m\u001b[43m \u001b[49m\u001b[43ma\u001b[49m\u001b[43m:\u001b[49m\u001b[43m \u001b[49m\u001b[38;5;28;43mself\u001b[39;49m\u001b[38;5;241;43m.\u001b[39;49m\u001b[43mlagrange_problem\u001b[49m\u001b[43m(\u001b[49m\u001b[43ma\u001b[49m\u001b[43m,\u001b[49m\u001b[43mxxyy\u001b[49m\u001b[43m)\u001b[49m\u001b[43m,\u001b[49m\n\u001b[0;32m     28\u001b[0m \u001b[43m            \u001b[49m\u001b[43mx0\u001b[49m\u001b[38;5;241;43m=\u001b[39;49m\u001b[43mnp\u001b[49m\u001b[38;5;241;43m.\u001b[39;49m\u001b[43mones\u001b[49m\u001b[43m(\u001b[49m\u001b[38;5;28;43mself\u001b[39;49m\u001b[38;5;241;43m.\u001b[39;49m\u001b[43mm\u001b[49m\u001b[43m)\u001b[49m\u001b[43m,\u001b[49m\u001b[43m \u001b[49m\n\u001b[0;32m     29\u001b[0m \u001b[43m            \u001b[49m\u001b[43mmethod\u001b[49m\u001b[38;5;241;43m=\u001b[39;49m\u001b[38;5;124;43m'\u001b[39;49m\u001b[38;5;124;43mSLSQP\u001b[39;49m\u001b[38;5;124;43m'\u001b[39;49m\u001b[43m,\u001b[49m\u001b[43m \u001b[49m\n\u001b[0;32m     30\u001b[0m \u001b[43m            \u001b[49m\u001b[43mjac\u001b[49m\u001b[38;5;241;43m=\u001b[39;49m\u001b[38;5;28;43;01mlambda\u001b[39;49;00m\u001b[43m \u001b[49m\u001b[43ma\u001b[49m\u001b[43m:\u001b[49m\u001b[43m \u001b[49m\u001b[38;5;28;43mself\u001b[39;49m\u001b[38;5;241;43m.\u001b[39;49m\u001b[43mpartial_derivative\u001b[49m\u001b[43m(\u001b[49m\u001b[43ma\u001b[49m\u001b[43m,\u001b[49m\u001b[43mxxyy\u001b[49m\u001b[43m)\u001b[49m\u001b[43m,\u001b[49m\u001b[43m \u001b[49m\n\u001b[0;32m     31\u001b[0m \u001b[43m            \u001b[49m\u001b[43mconstraints\u001b[49m\u001b[38;5;241;43m=\u001b[39;49m\u001b[43mconstraints\u001b[49m\u001b[43m)\u001b[49m\n\u001b[0;32m     33\u001b[0m \u001b[38;5;28mself\u001b[39m\u001b[38;5;241m.\u001b[39mres \u001b[38;5;241m=\u001b[39mres\n",
      "File \u001b[1;32m~\\AppData\\Local\\Programs\\Python\\Python39\\lib\\site-packages\\scipy\\optimize\\_minimize.py:631\u001b[0m, in \u001b[0;36mminimize\u001b[1;34m(fun, x0, args, method, jac, hess, hessp, bounds, constraints, tol, callback, options)\u001b[0m\n\u001b[0;32m    629\u001b[0m     \u001b[38;5;28;01mreturn\u001b[39;00m _minimize_cobyla(fun, x0, args, constraints, \u001b[38;5;241m*\u001b[39m\u001b[38;5;241m*\u001b[39moptions)\n\u001b[0;32m    630\u001b[0m \u001b[38;5;28;01melif\u001b[39;00m meth \u001b[38;5;241m==\u001b[39m \u001b[38;5;124m'\u001b[39m\u001b[38;5;124mslsqp\u001b[39m\u001b[38;5;124m'\u001b[39m:\n\u001b[1;32m--> 631\u001b[0m     \u001b[38;5;28;01mreturn\u001b[39;00m _minimize_slsqp(fun, x0, args, jac, bounds,\n\u001b[0;32m    632\u001b[0m                            constraints, callback\u001b[38;5;241m=\u001b[39mcallback, \u001b[38;5;241m*\u001b[39m\u001b[38;5;241m*\u001b[39moptions)\n\u001b[0;32m    633\u001b[0m \u001b[38;5;28;01melif\u001b[39;00m meth \u001b[38;5;241m==\u001b[39m \u001b[38;5;124m'\u001b[39m\u001b[38;5;124mtrust-constr\u001b[39m\u001b[38;5;124m'\u001b[39m:\n\u001b[0;32m    634\u001b[0m     \u001b[38;5;28;01mreturn\u001b[39;00m _minimize_trustregion_constr(fun, x0, args, jac, hess, hessp,\n\u001b[0;32m    635\u001b[0m                                         bounds, constraints,\n\u001b[0;32m    636\u001b[0m                                         callback\u001b[38;5;241m=\u001b[39mcallback, \u001b[38;5;241m*\u001b[39m\u001b[38;5;241m*\u001b[39moptions)\n",
      "File \u001b[1;32m~\\AppData\\Local\\Programs\\Python\\Python39\\lib\\site-packages\\scipy\\optimize\\slsqp.py:423\u001b[0m, in \u001b[0;36m_minimize_slsqp\u001b[1;34m(func, x0, args, jac, bounds, constraints, maxiter, ftol, iprint, disp, eps, callback, finite_diff_rel_step, **unknown_options)\u001b[0m\n\u001b[0;32m    421\u001b[0m g \u001b[38;5;241m=\u001b[39m append(wrapped_grad(x), \u001b[38;5;241m0.0\u001b[39m)\n\u001b[0;32m    422\u001b[0m c \u001b[38;5;241m=\u001b[39m _eval_constraint(x, cons)\n\u001b[1;32m--> 423\u001b[0m a \u001b[38;5;241m=\u001b[39m \u001b[43m_eval_con_normals\u001b[49m\u001b[43m(\u001b[49m\u001b[43mx\u001b[49m\u001b[43m,\u001b[49m\u001b[43m \u001b[49m\u001b[43mcons\u001b[49m\u001b[43m,\u001b[49m\u001b[43m \u001b[49m\u001b[43mla\u001b[49m\u001b[43m,\u001b[49m\u001b[43m \u001b[49m\u001b[43mn\u001b[49m\u001b[43m,\u001b[49m\u001b[43m \u001b[49m\u001b[43mm\u001b[49m\u001b[43m,\u001b[49m\u001b[43m \u001b[49m\u001b[43mmeq\u001b[49m\u001b[43m,\u001b[49m\u001b[43m \u001b[49m\u001b[43mmieq\u001b[49m\u001b[43m)\u001b[49m\n\u001b[0;32m    425\u001b[0m \u001b[38;5;28;01mwhile\u001b[39;00m \u001b[38;5;241m1\u001b[39m:\n\u001b[0;32m    426\u001b[0m     \u001b[38;5;66;03m# Call SLSQP\u001b[39;00m\n\u001b[0;32m    427\u001b[0m     slsqp(m, meq, x, xl, xu, fx, c, g, a, acc, majiter, mode, w, jw,\n\u001b[0;32m    428\u001b[0m           alpha, f0, gs, h1, h2, h3, h4, t, t0, tol,\n\u001b[0;32m    429\u001b[0m           iexact, incons, ireset, itermx, line,\n\u001b[0;32m    430\u001b[0m           n1, n2, n3)\n",
      "File \u001b[1;32m~\\AppData\\Local\\Programs\\Python\\Python39\\lib\\site-packages\\scipy\\optimize\\slsqp.py:506\u001b[0m, in \u001b[0;36m_eval_con_normals\u001b[1;34m(x, cons, la, n, m, meq, mieq)\u001b[0m\n\u001b[0;32m    504\u001b[0m     a \u001b[38;5;241m=\u001b[39m zeros((la, n))\n\u001b[0;32m    505\u001b[0m \u001b[38;5;28;01melse\u001b[39;00m:\n\u001b[1;32m--> 506\u001b[0m     a \u001b[38;5;241m=\u001b[39m \u001b[43mvstack\u001b[49m\u001b[43m(\u001b[49m\u001b[43m(\u001b[49m\u001b[43ma_eq\u001b[49m\u001b[43m,\u001b[49m\u001b[43m \u001b[49m\u001b[43ma_ieq\u001b[49m\u001b[43m)\u001b[49m\u001b[43m)\u001b[49m\n\u001b[0;32m    507\u001b[0m a \u001b[38;5;241m=\u001b[39m concatenate((a, zeros([la, \u001b[38;5;241m1\u001b[39m])), \u001b[38;5;241m1\u001b[39m)\n\u001b[0;32m    509\u001b[0m \u001b[38;5;28;01mreturn\u001b[39;00m a\n",
      "File \u001b[1;32m<__array_function__ internals>:180\u001b[0m, in \u001b[0;36mvstack\u001b[1;34m(*args, **kwargs)\u001b[0m\n",
      "File \u001b[1;32m~\\AppData\\Local\\Programs\\Python\\Python39\\lib\\site-packages\\numpy\\core\\shape_base.py:282\u001b[0m, in \u001b[0;36mvstack\u001b[1;34m(tup)\u001b[0m\n\u001b[0;32m    280\u001b[0m \u001b[38;5;28;01mif\u001b[39;00m \u001b[38;5;129;01mnot\u001b[39;00m \u001b[38;5;28misinstance\u001b[39m(arrs, \u001b[38;5;28mlist\u001b[39m):\n\u001b[0;32m    281\u001b[0m     arrs \u001b[38;5;241m=\u001b[39m [arrs]\n\u001b[1;32m--> 282\u001b[0m \u001b[38;5;28;01mreturn\u001b[39;00m \u001b[43m_nx\u001b[49m\u001b[38;5;241;43m.\u001b[39;49m\u001b[43mconcatenate\u001b[49m\u001b[43m(\u001b[49m\u001b[43marrs\u001b[49m\u001b[43m,\u001b[49m\u001b[43m \u001b[49m\u001b[38;5;241;43m0\u001b[39;49m\u001b[43m)\u001b[49m\n",
      "File \u001b[1;32m<__array_function__ internals>:180\u001b[0m, in \u001b[0;36mconcatenate\u001b[1;34m(*args, **kwargs)\u001b[0m\n",
      "\u001b[1;31mValueError\u001b[0m: all the input array dimensions for the concatenation axis must match exactly, but along dimension 1, the array at index 0 has size 1 and the array at index 1 has size 4"
     ]
    }
   ],
   "source": [
    "clf.fit(X,y)"
   ]
  },
  {
   "cell_type": "code",
   "execution_count": 103,
   "id": "a9f7948e",
   "metadata": {},
   "outputs": [
    {
     "data": {
      "text/plain": [
       "     fun: -2.3415776293633254e+273\n",
       "     jac: array([-4.81585993e+137, -7.70537589e+137,  2.98401875e+137,\n",
       "        2.26617578e+137])\n",
       " message: 'Inequality constraints incompatible'\n",
       "    nfev: 23\n",
       "     nit: 23\n",
       "    njev: 23\n",
       "  status: 4\n",
       " success: False\n",
       "       x: array([2.27204900e+134, 8.98340784e+135, 3.63631187e+135, 5.57430093e+135])"
      ]
     },
     "execution_count": 103,
     "metadata": {},
     "output_type": "execute_result"
    }
   ],
   "source": [
    "clf.res"
   ]
  },
  {
   "cell_type": "code",
   "execution_count": 62,
   "id": "7dc78b68",
   "metadata": {},
   "outputs": [],
   "source": [
    "X = np.array([[5,5],[8,8],[4,2],[1,4]])\n",
    "y = np.array([[1],[1],[-1],[-1]])"
   ]
  },
  {
   "cell_type": "code",
   "execution_count": 78,
   "id": "f8aed099",
   "metadata": {},
   "outputs": [
    {
     "data": {
      "text/plain": [
       "array([ True,  True,  True,  True])"
      ]
     },
     "execution_count": 78,
     "metadata": {},
     "output_type": "execute_result"
    }
   ],
   "source": [
    "alpha > 0"
   ]
  },
  {
   "cell_type": "code",
   "execution_count": 68,
   "id": "c0c6cf34",
   "metadata": {},
   "outputs": [
    {
     "data": {
      "text/plain": [
       "array([[ 50,  80, -30, -25],\n",
       "       [ 80, 128, -48, -40],\n",
       "       [-30, -48,  20,  12],\n",
       "       [-25, -40,  12,  17]])"
      ]
     },
     "execution_count": 68,
     "metadata": {},
     "output_type": "execute_result"
    }
   ],
   "source": [
    "xy = y * X\n",
    "xxyy = np.dot(xy,xy.T)\n",
    "xxyy"
   ]
  },
  {
   "cell_type": "code",
   "execution_count": 56,
   "id": "2a7c2e5c",
   "metadata": {},
   "outputs": [
    {
     "data": {
      "text/plain": [
       "array([1., 1., 1., 1.])"
      ]
     },
     "execution_count": 56,
     "metadata": {},
     "output_type": "execute_result"
    }
   ],
   "source": [
    "alpha = np.ones(X.shape[0])\n",
    "alpha"
   ]
  },
  {
   "cell_type": "code",
   "execution_count": 66,
   "id": "168c0ac0",
   "metadata": {},
   "outputs": [
    {
     "data": {
      "text/plain": [
       "array([ 75., 120., -46., -36.])"
      ]
     },
     "execution_count": 66,
     "metadata": {},
     "output_type": "execute_result"
    }
   ],
   "source": [
    "np.dot(alpha,xxyy)"
   ]
  },
  {
   "cell_type": "code",
   "execution_count": 61,
   "id": "8de6081e",
   "metadata": {},
   "outputs": [
    {
     "data": {
      "text/plain": [
       "685.0"
      ]
     },
     "execution_count": 61,
     "metadata": {},
     "output_type": "execute_result"
    }
   ],
   "source": [
    "alpha.dot(alpha.dot(xxyy))"
   ]
  },
  {
   "cell_type": "code",
   "execution_count": 72,
   "id": "46c451b3",
   "metadata": {},
   "outputs": [],
   "source": [
    "o = np.ones(3)"
   ]
  },
  {
   "cell_type": "code",
   "execution_count": 76,
   "id": "b31df5c0",
   "metadata": {},
   "outputs": [],
   "source": [
    "e = np.eye(3)"
   ]
  },
  {
   "cell_type": "code",
   "execution_count": 77,
   "id": "4875cb32",
   "metadata": {},
   "outputs": [
    {
     "data": {
      "text/plain": [
       "array([1., 1., 1.])"
      ]
     },
     "execution_count": 77,
     "metadata": {},
     "output_type": "execute_result"
    }
   ],
   "source": [
    "np.dot(e,o)"
   ]
  },
  {
   "cell_type": "code",
   "execution_count": null,
   "id": "b034fd09",
   "metadata": {},
   "outputs": [],
   "source": []
  }
 ],
 "metadata": {
  "kernelspec": {
   "display_name": "Python 3 (ipykernel)",
   "language": "python",
   "name": "python3"
  },
  "language_info": {
   "codemirror_mode": {
    "name": "ipython",
    "version": 3
   },
   "file_extension": ".py",
   "mimetype": "text/x-python",
   "name": "python",
   "nbconvert_exporter": "python",
   "pygments_lexer": "ipython3",
   "version": "3.9.10"
  }
 },
 "nbformat": 4,
 "nbformat_minor": 5
}
